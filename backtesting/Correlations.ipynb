{
 "cells": [
  {
   "cell_type": "code",
   "execution_count": 4,
   "id": "3e06d653",
   "metadata": {},
   "outputs": [],
   "source": [
    "import pandas as pd\n",
    "import os\n",
    "import sys \n",
    "sys.path.append(\"..\")\n",
    "\n",
    "from functions.get_btc import *"
   ]
  },
  {
   "cell_type": "code",
   "execution_count": 5,
   "id": "7481ce6e",
   "metadata": {
    "scrolled": true
   },
   "outputs": [],
   "source": [
    "df_btc = btc().copy()"
   ]
  },
  {
   "cell_type": "code",
   "execution_count": 8,
   "id": "f6d420a4",
   "metadata": {},
   "outputs": [],
   "source": [
    "csvs =[]\n",
    "directory = '../data/datos'\n",
    "for filename in os.listdir(directory):\n",
    "    csvs.append(filename[:-4])"
   ]
  },
  {
   "cell_type": "code",
   "execution_count": 9,
   "id": "65425575",
   "metadata": {},
   "outputs": [
    {
     "data": {
      "text/plain": [
       "['btc',\n",
       " 'dxy',\n",
       " 'merged_addresses_active_count',\n",
       " 'merged_addresses_new_non_zero_count',\n",
       " 'merged_balances',\n",
       " 'merged_fees_volume_sum',\n",
       " 'merged_indicators_sopr',\n",
       " 'merged_indicators_stock_to_flow_ratio',\n",
       " 'merged_institutions_purpose_etf_aum_sum',\n",
       " 'merged_institutions_purpose_etf_flows_sum',\n",
       " 'merged_institutions_purpose_etf_holdings_sum',\n",
       " 'merged_M2s',\n",
       " 'merged_market_marketcap_usd',\n",
       " 'merged_market_price_drawdown_relative',\n",
       " 'merged_supply_active_more_1y_percent',\n",
       " 'merged_transactions_count',\n",
       " 'merged_transactions_size_mean',\n",
       " 'Mining_Hashrate',\n",
       " 'Mining_Total Transaction Fees (BTC)',\n",
       " 'On-Chain_unique-addresses']"
      ]
     },
     "execution_count": 9,
     "metadata": {},
     "output_type": "execute_result"
    }
   ],
   "source": [
    "csvs"
   ]
  },
  {
   "cell_type": "code",
   "execution_count": 10,
   "id": "43f29a36",
   "metadata": {},
   "outputs": [],
   "source": [
    "df = pd.DataFrame(csvs)\n",
    "df.columns = ['names']"
   ]
  },
  {
   "cell_type": "code",
   "execution_count": 12,
   "id": "2792d8d7",
   "metadata": {},
   "outputs": [
    {
     "name": "stdout",
     "output_type": "stream",
     "text": [
      "btc : not available\n",
      "dxy : not available\n",
      "merged_balances : not available\n",
      "merged_M2s : not available\n"
     ]
    }
   ],
   "source": [
    "dic = {}\n",
    "for e in csvs:\n",
    "    name = f'{e}_df'\n",
    "    name = pd.read_csv(f'..\\data\\datos\\{e}.csv')\n",
    "    \n",
    "    try: \n",
    "        dic[e]=name[['Close','metric']].corr().iloc[0,1]   \n",
    "    except:\n",
    "        print(e, ': not available')"
   ]
  },
  {
   "cell_type": "code",
   "execution_count": 13,
   "id": "2fed8bf0",
   "metadata": {},
   "outputs": [],
   "source": [
    "dic['merged_M2s']= 0.8341512979642502"
   ]
  },
  {
   "cell_type": "code",
   "execution_count": 14,
   "id": "4fee87e6",
   "metadata": {},
   "outputs": [],
   "source": [
    "dxy = pd.read_csv(f'..\\data\\datos\\dxy.csv')\n",
    "dxy = dxy[['Date', 'Close']]\n",
    "dxy.columns=['Date','metric']"
   ]
  },
  {
   "cell_type": "code",
   "execution_count": 15,
   "id": "2805615c",
   "metadata": {},
   "outputs": [],
   "source": [
    "dxy = df_btc.merge(dxy, left_index = True, right_on= 'Date')"
   ]
  },
  {
   "cell_type": "code",
   "execution_count": 16,
   "id": "9a77bc08",
   "metadata": {},
   "outputs": [],
   "source": [
    "dic['dxy']=dxy[['Close','metric']].corr().iloc[0,1]   "
   ]
  },
  {
   "cell_type": "code",
   "execution_count": 17,
   "id": "6b99ff41",
   "metadata": {},
   "outputs": [],
   "source": [
    "balances = pd.read_csv(f'..\\data\\datos\\merged_balances.csv')"
   ]
  },
  {
   "cell_type": "code",
   "execution_count": 18,
   "id": "598959d3",
   "metadata": {},
   "outputs": [],
   "source": [
    "balances = balances.iloc[:,1:]"
   ]
  },
  {
   "cell_type": "code",
   "execution_count": 19,
   "id": "279db048",
   "metadata": {},
   "outputs": [],
   "source": [
    "# for addresses\n",
    "\n",
    "bal_dic=  {'<0.01':'less_than_0_01', '0.01 - 0.1': 'f_0_01_to_0_1' ,'0.1 - 1': 'f_0_1_to_1', '1 - 10' : 'f_1_to_10', '10 - 100' : 'f_10_to_100','100 - 1000' : 'f_100_to_1000', '1k - 10k' : 'f_1000_to_10000','10k+' : 'f_10000_to_100000'}\n",
    "\n",
    "for e in bal_dic.values():\n",
    "    ind = 'addressesCount_' + e\n",
    "    dic[ind]=balances[['Close',ind]].corr().iloc[0,1]   \n",
    "    \n"
   ]
  },
  {
   "cell_type": "code",
   "execution_count": 20,
   "id": "9b2d8bb0",
   "metadata": {},
   "outputs": [],
   "source": [
    "# for Volume\n",
    "for e in bal_dic.values():\n",
    "    ind = 'totalVolume_' + e\n",
    "    dic[ind]=balances[['Close',ind]].corr().iloc[0,1]   \n",
    "    \n"
   ]
  },
  {
   "cell_type": "code",
   "execution_count": 21,
   "id": "bedf9c3a",
   "metadata": {},
   "outputs": [
    {
     "data": {
      "text/plain": [
       "{'merged_addresses_active_count': 0.7046839825257488,\n",
       " 'merged_addresses_new_non_zero_count': 0.6363919391034455,\n",
       " 'merged_fees_volume_sum': -0.024232131048683204,\n",
       " 'merged_indicators_sopr': 0.06494546689542709,\n",
       " 'merged_indicators_stock_to_flow_ratio': 0.8601354602977833,\n",
       " 'merged_institutions_purpose_etf_aum_sum': 0.7376390209354532,\n",
       " 'merged_institutions_purpose_etf_flows_sum': 0.052663047452587555,\n",
       " 'merged_institutions_purpose_etf_holdings_sum': -0.23671647141150187,\n",
       " 'merged_market_marketcap_usd': 0.999845555139694,\n",
       " 'merged_market_price_drawdown_relative': 0.4918926549637083,\n",
       " 'merged_supply_active_more_1y_percent': 0.36360117718530405,\n",
       " 'merged_transactions_count': 0.4648125948719141,\n",
       " 'merged_transactions_size_mean': 0.546653367551546,\n",
       " 'Mining_Hashrate': 0.753212596284398,\n",
       " 'Mining_Total Transaction Fees (BTC)': -0.025029176627316175,\n",
       " 'On-Chain_unique-addresses': 0.6794343040763106,\n",
       " 'merged_M2s': 0.8341512979642502,\n",
       " 'dxy': 0.28650833999645864,\n",
       " 'addressesCount_less_than_0_01': 0.7290262075714301,\n",
       " 'addressesCount_f_0_01_to_0_1': 0.5614326880198521,\n",
       " 'addressesCount_f_0_1_to_1': 0.48728848023682636,\n",
       " 'addressesCount_f_1_to_10': 0.3961723749750195,\n",
       " 'addressesCount_f_10_to_100': 0.7198257257614932,\n",
       " 'addressesCount_f_100_to_1000': -0.46939986393939126,\n",
       " 'addressesCount_f_1000_to_10000': 0.5876401349013552,\n",
       " 'addressesCount_f_10000_to_100000': -0.8123841710918788,\n",
       " 'totalVolume_less_than_0_01': 0.7120417640002287,\n",
       " 'totalVolume_f_0_01_to_0_1': 0.5398813958242898,\n",
       " 'totalVolume_f_0_1_to_1': 0.4732687771092786,\n",
       " 'totalVolume_f_1_to_10': 0.33915886230018827,\n",
       " 'totalVolume_f_10_to_100': 0.7717740222120957,\n",
       " 'totalVolume_f_100_to_1000': 0.6751962386276051,\n",
       " 'totalVolume_f_1000_to_10000': 0.5940230980685827,\n",
       " 'totalVolume_f_10000_to_100000': -0.6001470282563057}"
      ]
     },
     "execution_count": 21,
     "metadata": {},
     "output_type": "execute_result"
    }
   ],
   "source": [
    "dic"
   ]
  },
  {
   "cell_type": "code",
   "execution_count": 22,
   "id": "a5236fa8",
   "metadata": {},
   "outputs": [],
   "source": [
    "#corr_raw= pd.DataFrame([e for e in range(33)])"
   ]
  },
  {
   "cell_type": "code",
   "execution_count": 23,
   "id": "73c2bfee",
   "metadata": {},
   "outputs": [],
   "source": [
    "#corr_raw['corr_metric'] = dic.items()"
   ]
  },
  {
   "cell_type": "code",
   "execution_count": 24,
   "id": "d330828b",
   "metadata": {},
   "outputs": [],
   "source": [
    "#corr_raw['corr_raw'] = dic.values()"
   ]
  },
  {
   "cell_type": "code",
   "execution_count": 27,
   "id": "e6c6bb2d",
   "metadata": {},
   "outputs": [],
   "source": [
    "import json\n",
    "\n",
    "with open(\"../backtesting/correlations_raw.json\", \"w\") as f:\n",
    "    # Convert the dictionary to a JSON formatted string and write it to the file\n",
    "    json.dump(dic, f)\n"
   ]
  }
 ],
 "metadata": {
  "kernelspec": {
   "display_name": "btc_viz",
   "language": "python",
   "name": "btc_viz"
  },
  "language_info": {
   "codemirror_mode": {
    "name": "ipython",
    "version": 3
   },
   "file_extension": ".py",
   "mimetype": "text/x-python",
   "name": "python",
   "nbconvert_exporter": "python",
   "pygments_lexer": "ipython3",
   "version": "3.8.16"
  }
 },
 "nbformat": 4,
 "nbformat_minor": 5
}
