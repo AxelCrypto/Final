{
 "cells": [
  {
   "cell_type": "code",
   "execution_count": 1,
   "id": "3e06d653",
   "metadata": {},
   "outputs": [],
   "source": [
    "import pandas as pd\n",
    "import os\n",
    "from functions.get_btc import *"
   ]
  },
  {
   "cell_type": "code",
   "execution_count": 2,
   "id": "7481ce6e",
   "metadata": {
    "scrolled": true
   },
   "outputs": [],
   "source": [
    "df_btc = btc().copy()"
   ]
  },
  {
   "cell_type": "code",
   "execution_count": 3,
   "id": "f6d420a4",
   "metadata": {},
   "outputs": [],
   "source": [
    "csvs =[]\n",
    "directory = 'data/datos'\n",
    "for filename in os.listdir(directory):\n",
    "    csvs.append(filename[:-4])"
   ]
  },
  {
   "cell_type": "code",
   "execution_count": 4,
   "id": "65425575",
   "metadata": {},
   "outputs": [
    {
     "data": {
      "text/plain": [
       "['btc',\n",
       " 'dxy',\n",
       " 'merged_addresses_active_count',\n",
       " 'merged_addresses_new_non_zero_count',\n",
       " 'merged_balances',\n",
       " 'merged_fees_volume_sum',\n",
       " 'merged_indicators_sopr',\n",
       " 'merged_indicators_stock_to_flow_ratio',\n",
       " 'merged_institutions_purpose_etf_aum_sum',\n",
       " 'merged_institutions_purpose_etf_flows_sum',\n",
       " 'merged_institutions_purpose_etf_holdings_sum',\n",
       " 'merged_M2s',\n",
       " 'merged_market_marketcap_usd',\n",
       " 'merged_supply_active_more_1y_percent',\n",
       " 'merged_transactions_count',\n",
       " 'merged_transactions_size_mean',\n",
       " 'Mining_Hashrate',\n",
       " 'Mining_Total Transaction Fees (BTC)',\n",
       " 'On-Chain_unique-addresses']"
      ]
     },
     "execution_count": 4,
     "metadata": {},
     "output_type": "execute_result"
    }
   ],
   "source": [
    "csvs"
   ]
  },
  {
   "cell_type": "code",
   "execution_count": 5,
   "id": "43f29a36",
   "metadata": {},
   "outputs": [],
   "source": [
    "df = pd.DataFrame(csvs)\n",
    "df.columns = ['names']"
   ]
  },
  {
   "cell_type": "code",
   "execution_count": 6,
   "id": "2792d8d7",
   "metadata": {},
   "outputs": [
    {
     "name": "stdout",
     "output_type": "stream",
     "text": [
      "btc : not available\n",
      "dxy : not available\n",
      "merged_balances : not available\n",
      "merged_M2s : not available\n"
     ]
    }
   ],
   "source": [
    "dic = {}\n",
    "for e in csvs:\n",
    "    name = f'{e}_df'\n",
    "    name = pd.read_csv(f'data\\datos\\{e}.csv')\n",
    "    \n",
    "    try: \n",
    "        dic[e]=name[['Close','metric']].corr().iloc[0,1]   \n",
    "    except:\n",
    "        print(e, ': not available')"
   ]
  },
  {
   "cell_type": "code",
   "execution_count": 7,
   "id": "2fed8bf0",
   "metadata": {},
   "outputs": [],
   "source": [
    "dic['merged_M2s']= 0.8341512979642502"
   ]
  },
  {
   "cell_type": "code",
   "execution_count": 8,
   "id": "4fee87e6",
   "metadata": {},
   "outputs": [],
   "source": [
    "dxy = pd.read_csv(f'data\\datos\\dxy.csv')\n",
    "dxy = dxy[['Date', 'Close']]\n",
    "dxy.columns=['Date','metric']"
   ]
  },
  {
   "cell_type": "code",
   "execution_count": 9,
   "id": "2805615c",
   "metadata": {},
   "outputs": [],
   "source": [
    "dxy = df_btc.merge(dxy, left_index = True, right_on= 'Date')"
   ]
  },
  {
   "cell_type": "code",
   "execution_count": 10,
   "id": "9a77bc08",
   "metadata": {},
   "outputs": [],
   "source": [
    "dic['dxy']=dxy[['Close','metric']].corr().iloc[0,1]   "
   ]
  },
  {
   "cell_type": "code",
   "execution_count": 11,
   "id": "6b99ff41",
   "metadata": {},
   "outputs": [],
   "source": [
    "balances = pd.read_csv(f'data\\datos\\merged_balances.csv')"
   ]
  },
  {
   "cell_type": "code",
   "execution_count": 12,
   "id": "598959d3",
   "metadata": {},
   "outputs": [],
   "source": [
    "balances = balances.iloc[:,1:]"
   ]
  },
  {
   "cell_type": "code",
   "execution_count": 13,
   "id": "279db048",
   "metadata": {},
   "outputs": [],
   "source": [
    "# for addresses\n",
    "\n",
    "bal_dic=  {'<0.01':'less_than_0_01', '0.01 - 0.1': 'f_0_01_to_0_1' ,'0.1 - 1': 'f_0_1_to_1', '1 - 10' : 'f_1_to_10', '10 - 100' : 'f_10_to_100','100 - 1000' : 'f_100_to_1000', '1k - 10k' : 'f_1000_to_10000','10k+' : 'f_10000_to_100000'}\n",
    "\n",
    "for e in bal_dic.values():\n",
    "    ind = 'addressesCount_' + e\n",
    "    dic[ind]=balances[['Close',ind]].corr().iloc[0,1]   \n",
    "    \n"
   ]
  },
  {
   "cell_type": "code",
   "execution_count": 66,
   "id": "9b2d8bb0",
   "metadata": {},
   "outputs": [],
   "source": [
    "# for Volume\n",
    "for e in bal_dic.values():\n",
    "    ind = 'totalVolume_' + e\n",
    "    dic[ind]=balances[['Close',ind]].corr().iloc[0,1]   \n",
    "    \n"
   ]
  },
  {
   "cell_type": "code",
   "execution_count": 67,
   "id": "0d0fbd25",
   "metadata": {},
   "outputs": [
    {
     "data": {
      "text/plain": [
       "33"
      ]
     },
     "execution_count": 67,
     "metadata": {},
     "output_type": "execute_result"
    }
   ],
   "source": [
    "len(dic)"
   ]
  },
  {
   "cell_type": "code",
   "execution_count": 68,
   "id": "aed7f92d",
   "metadata": {},
   "outputs": [],
   "source": [
    "corr_raw= pd.DataFrame([e for e in range(33)])"
   ]
  },
  {
   "cell_type": "code",
   "execution_count": 69,
   "id": "0e7406dd",
   "metadata": {},
   "outputs": [],
   "source": [
    "corr_raw['corr_metric'] = dic.items()"
   ]
  },
  {
   "cell_type": "code",
   "execution_count": 70,
   "id": "bbb4195b",
   "metadata": {},
   "outputs": [],
   "source": [
    "corr_raw['corr_raw'] = dic.values()"
   ]
  },
  {
   "cell_type": "code",
   "execution_count": 72,
   "id": "70fdaa32",
   "metadata": {},
   "outputs": [],
   "source": [
    "import json\n",
    "\n",
    "with open(\"correlations_raw.json\", \"w\") as f:\n",
    "    # Convert the dictionary to a JSON formatted string and write it to the file\n",
    "    json.dump(dic, f)\n"
   ]
  },
  {
   "cell_type": "code",
   "execution_count": 16,
   "id": "d0f62c51",
   "metadata": {},
   "outputs": [],
   "source": [
    "# corr raw, corr z, corr z in 50."
   ]
  },
  {
   "cell_type": "code",
   "execution_count": 17,
   "id": "c7e305ea",
   "metadata": {},
   "outputs": [],
   "source": [
    "#z_scores = (df['M2_sum'] -  df['M2_sum'].rolling(ma).mean()) /  df['M2_sum'].rolling(ma).std()\n",
    "#y=z_scores.rolling(ma+7).mean()"
   ]
  },
  {
   "cell_type": "code",
   "execution_count": 18,
   "id": "614ac85d",
   "metadata": {},
   "outputs": [],
   "source": [
    "\n",
    "dxy['z30']= ((dxy['metric'] - dxy['metric'].rolling(30).mean()) / dxy['metric'].rolling(30).std()).rolling(7).mean()"
   ]
  },
  {
   "cell_type": "code",
   "execution_count": 19,
   "id": "05d92d20",
   "metadata": {},
   "outputs": [],
   "source": [
    "dxy.dropna(inplace = True)"
   ]
  },
  {
   "cell_type": "code",
   "execution_count": 20,
   "id": "3a3118da",
   "metadata": {},
   "outputs": [
    {
     "data": {
      "text/html": [
       "<div>\n",
       "<style scoped>\n",
       "    .dataframe tbody tr th:only-of-type {\n",
       "        vertical-align: middle;\n",
       "    }\n",
       "\n",
       "    .dataframe tbody tr th {\n",
       "        vertical-align: top;\n",
       "    }\n",
       "\n",
       "    .dataframe thead th {\n",
       "        text-align: right;\n",
       "    }\n",
       "</style>\n",
       "<table border=\"1\" class=\"dataframe\">\n",
       "  <thead>\n",
       "    <tr style=\"text-align: right;\">\n",
       "      <th></th>\n",
       "      <th>Close</th>\n",
       "      <th>High</th>\n",
       "      <th>Low</th>\n",
       "      <th>Open</th>\n",
       "      <th>Volume</th>\n",
       "      <th>Date</th>\n",
       "      <th>metric</th>\n",
       "      <th>z30</th>\n",
       "    </tr>\n",
       "  </thead>\n",
       "  <tbody>\n",
       "    <tr>\n",
       "      <th>445</th>\n",
       "      <td>4.61</td>\n",
       "      <td>4.81</td>\n",
       "      <td>4.59</td>\n",
       "      <td>4.80</td>\n",
       "      <td>94.640000</td>\n",
       "      <td>2011-10-07</td>\n",
       "      <td>78.720001</td>\n",
       "      <td>1.355751</td>\n",
       "    </tr>\n",
       "    <tr>\n",
       "      <th>446</th>\n",
       "      <td>4.51</td>\n",
       "      <td>4.51</td>\n",
       "      <td>3.99</td>\n",
       "      <td>3.99</td>\n",
       "      <td>132.500000</td>\n",
       "      <td>2011-10-10</td>\n",
       "      <td>77.599998</td>\n",
       "      <td>1.234996</td>\n",
       "    </tr>\n",
       "    <tr>\n",
       "      <th>447</th>\n",
       "      <td>4.10</td>\n",
       "      <td>4.10</td>\n",
       "      <td>3.98</td>\n",
       "      <td>3.98</td>\n",
       "      <td>78.080000</td>\n",
       "      <td>2011-10-11</td>\n",
       "      <td>77.580002</td>\n",
       "      <td>1.066628</td>\n",
       "    </tr>\n",
       "    <tr>\n",
       "      <th>448</th>\n",
       "      <td>3.93</td>\n",
       "      <td>3.99</td>\n",
       "      <td>3.93</td>\n",
       "      <td>3.95</td>\n",
       "      <td>79.523525</td>\n",
       "      <td>2011-10-12</td>\n",
       "      <td>76.989998</td>\n",
       "      <td>0.778728</td>\n",
       "    </tr>\n",
       "    <tr>\n",
       "      <th>449</th>\n",
       "      <td>3.97</td>\n",
       "      <td>3.97</td>\n",
       "      <td>3.93</td>\n",
       "      <td>3.93</td>\n",
       "      <td>109.621766</td>\n",
       "      <td>2011-10-13</td>\n",
       "      <td>76.989998</td>\n",
       "      <td>0.486615</td>\n",
       "    </tr>\n",
       "  </tbody>\n",
       "</table>\n",
       "</div>"
      ],
      "text/plain": [
       "     Close  High   Low  Open      Volume        Date     metric       z30\n",
       "445   4.61  4.81  4.59  4.80   94.640000  2011-10-07  78.720001  1.355751\n",
       "446   4.51  4.51  3.99  3.99  132.500000  2011-10-10  77.599998  1.234996\n",
       "447   4.10  4.10  3.98  3.98   78.080000  2011-10-11  77.580002  1.066628\n",
       "448   3.93  3.99  3.93  3.95   79.523525  2011-10-12  76.989998  0.778728\n",
       "449   3.97  3.97  3.93  3.93  109.621766  2011-10-13  76.989998  0.486615"
      ]
     },
     "execution_count": 20,
     "metadata": {},
     "output_type": "execute_result"
    }
   ],
   "source": [
    "dxy.head()"
   ]
  },
  {
   "cell_type": "code",
   "execution_count": 21,
   "id": "d258996d",
   "metadata": {},
   "outputs": [
    {
     "data": {
      "text/plain": [
       "0.05219001006370151"
      ]
     },
     "execution_count": 21,
     "metadata": {},
     "output_type": "execute_result"
    }
   ],
   "source": [
    "dxy[['Close','z30']].corr().iloc[0,1]   "
   ]
  },
  {
   "cell_type": "code",
   "execution_count": 22,
   "id": "66f578a6",
   "metadata": {},
   "outputs": [],
   "source": [
    "for e in range (90):\n",
    "    a = f'z_{e}'\n",
    "    dxy[a] = ((dxy['metric'] - dxy['metric'].rolling(e).mean()) / dxy['metric'].rolling(e).std()).rolling(7).mean()\n",
    "    dxy[['Close',a]].corr().iloc[0,1]   \n",
    "\n",
    "del dxy['z_0']\n",
    "del dxy['z_1']\n",
    "del dxy['z_2']\n",
    "dxy.dropna(inplace = True)"
   ]
  },
  {
   "cell_type": "code",
   "execution_count": 41,
   "id": "c40efcdb",
   "metadata": {},
   "outputs": [],
   "source": [
    "lst={}\n",
    "for e in range (3,90):\n",
    "    lst[e]= dxy[['Close',f'z_{e}']].corr().iloc[0,1]   \n"
   ]
  },
  {
   "cell_type": "code",
   "execution_count": 45,
   "id": "f9fa0fdd",
   "metadata": {},
   "outputs": [
    {
     "data": {
      "text/plain": [
       "89"
      ]
     },
     "execution_count": 45,
     "metadata": {},
     "output_type": "execute_result"
    }
   ],
   "source": [
    "max(lst)"
   ]
  },
  {
   "cell_type": "code",
   "execution_count": 40,
   "id": "3d9cdb63",
   "metadata": {},
   "outputs": [
    {
     "data": {
      "text/plain": [
       "0.14622719237324144"
      ]
     },
     "execution_count": 40,
     "metadata": {},
     "output_type": "execute_result"
    }
   ],
   "source": [
    "f = open('backtesting/correlations_raw.json')\n",
    "data = json.load(f)\n",
    "\n",
    "st.write(\"The correlation coefficient with bitcoin's price is of : \", round(data['dxy'],2))\n"
   ]
  },
  {
   "cell_type": "code",
   "execution_count": 83,
   "id": "2b78b17a",
   "metadata": {},
   "outputs": [
    {
     "data": {
      "text/plain": [
       "{'merged_addresses_active_count': 0.7041169393663363,\n",
       " 'merged_addresses_new_non_zero_count': 0.6356823373061199,\n",
       " 'merged_fees_volume_sum': -0.02393825402169299,\n",
       " 'merged_indicators_sopr': 0.06470514154175576,\n",
       " 'merged_indicators_stock_to_flow_ratio': 0.8604043693361753,\n",
       " 'merged_institutions_purpose_etf_aum_sum': 0.7371657003316816,\n",
       " 'merged_institutions_purpose_etf_flows_sum': 0.052865545503067435,\n",
       " 'merged_institutions_purpose_etf_holdings_sum': -0.2374984753392627,\n",
       " 'merged_market_marketcap_usd': 0.9998465171520863,\n",
       " 'merged_supply_active_more_1y_percent': 0.3625094766659469,\n",
       " 'merged_transactions_count': 0.4640914028383881,\n",
       " 'merged_transactions_size_mean': 0.5536486709623619,\n",
       " 'Mining_Hashrate': 0.7545137361364878,\n",
       " 'Mining_Total Transaction Fees (BTC)': -0.02463970469218787,\n",
       " 'On-Chain_unique-addresses': 0.6786323500499182,\n",
       " 'merged_M2s': 0.8341512979642502,\n",
       " 'dxy': 0.2857330759829787,\n",
       " 'addressesCount_less_than_0_01': 0.7309208751791545,\n",
       " 'addressesCount_f_0_01_to_0_1': 0.5637098421342339,\n",
       " 'addressesCount_f_0_1_to_1': 0.49074004934346577,\n",
       " 'addressesCount_f_1_to_10': 0.39971240634897914,\n",
       " 'addressesCount_f_10_to_100': 0.7220104070034703,\n",
       " 'addressesCount_f_100_to_1000': -0.4696891694979818,\n",
       " 'addressesCount_f_1000_to_10000': 0.5882112032070773,\n",
       " 'addressesCount_f_10000_to_100000': -0.814401293882881,\n",
       " 'totalVolume_less_than_0_01': 0.7129026325946831,\n",
       " 'totalVolume_f_0_01_to_0_1': 0.5425804929859651,\n",
       " 'totalVolume_f_0_1_to_1': 0.47681921331725013,\n",
       " 'totalVolume_f_1_to_10': 0.34252539623862066,\n",
       " 'totalVolume_f_10_to_100': 0.7733483844107766,\n",
       " 'totalVolume_f_100_to_1000': 0.6735545424484679,\n",
       " 'totalVolume_f_1000_to_10000': 0.5943557723662132,\n",
       " 'totalVolume_f_10000_to_100000': -0.601373294249351}"
      ]
     },
     "execution_count": 83,
     "metadata": {},
     "output_type": "execute_result"
    }
   ],
   "source": [
    "dic"
   ]
  },
  {
   "cell_type": "code",
   "execution_count": 84,
   "id": "3f1f3892",
   "metadata": {},
   "outputs": [],
   "source": [
    "metrics = ['0.1 - 1', '1-2']"
   ]
  },
  {
   "cell_type": "code",
   "execution_count": 92,
   "id": "5a20b3ea",
   "metadata": {},
   "outputs": [],
   "source": [
    "def get_all_data_onchain(categorie, metric):\n",
    "    global df_btc\n",
    "    url =  '/v1/metrics/' + str(categorie)  +'/' + str(metric)\n",
    "    df = glassnode(url).copy()\n",
    "    \n",
    "    time.sleep(1)\n",
    "    df.set_index('timestamp',inplace = True, drop= True)\n",
    "    df.columns = ['metric']\n",
    "#    df.index = pd.to_datetime(df.index)\n",
    "#    df.set_index('timestamp', drop = True, inplace = True)\n",
    "    df_btc.index = pd.to_datetime(df_btc.index)\n",
    "    df_merged = df_btc.merge(df, left_index=True, right_index=True)\n",
    "    try:\n",
    "        df_merged['timestamp'] = pd.to_datetime(df_merged['timestamp'])\n",
    "        df_merged.set_index('timestamp',drop=True, inplace = True)\n",
    "    except:pass\n",
    " #   df_merged.to_csv(f'data/datos/merged_{categorie}_{metric}.csv')\n",
    "\n",
    "    return df_merged\n"
   ]
  },
  {
   "cell_type": "code",
   "execution_count": 93,
   "id": "94dee9c0",
   "metadata": {},
   "outputs": [
    {
     "ename": "NameError",
     "evalue": "name 'glassnode' is not defined",
     "output_type": "error",
     "traceback": [
      "\u001b[1;31m---------------------------------------------------------------------------\u001b[0m",
      "\u001b[1;31mNameError\u001b[0m                                 Traceback (most recent call last)",
      "\u001b[1;32m~\\AppData\\Local\\Temp\\ipykernel_12684\\3644187671.py\u001b[0m in \u001b[0;36m<module>\u001b[1;34m\u001b[0m\n\u001b[1;32m----> 1\u001b[1;33m \u001b[0mget_all_data_onchain\u001b[0m\u001b[1;33m(\u001b[0m\u001b[1;34m'market'\u001b[0m\u001b[1;33m,\u001b[0m \u001b[1;34m'marketcap_usd'\u001b[0m\u001b[1;33m)\u001b[0m\u001b[1;33m\u001b[0m\u001b[1;33m\u001b[0m\u001b[0m\n\u001b[0m",
      "\u001b[1;32m~\\AppData\\Local\\Temp\\ipykernel_12684\\3293040937.py\u001b[0m in \u001b[0;36mget_all_data_onchain\u001b[1;34m(categorie, metric)\u001b[0m\n\u001b[0;32m      2\u001b[0m     \u001b[1;32mglobal\u001b[0m \u001b[0mdf_btc\u001b[0m\u001b[1;33m\u001b[0m\u001b[1;33m\u001b[0m\u001b[0m\n\u001b[0;32m      3\u001b[0m     \u001b[0murl\u001b[0m \u001b[1;33m=\u001b[0m  \u001b[1;34m'/v1/metrics/'\u001b[0m \u001b[1;33m+\u001b[0m \u001b[0mstr\u001b[0m\u001b[1;33m(\u001b[0m\u001b[0mcategorie\u001b[0m\u001b[1;33m)\u001b[0m  \u001b[1;33m+\u001b[0m\u001b[1;34m'/'\u001b[0m \u001b[1;33m+\u001b[0m \u001b[0mstr\u001b[0m\u001b[1;33m(\u001b[0m\u001b[0mmetric\u001b[0m\u001b[1;33m)\u001b[0m\u001b[1;33m\u001b[0m\u001b[1;33m\u001b[0m\u001b[0m\n\u001b[1;32m----> 4\u001b[1;33m     \u001b[0mdf\u001b[0m \u001b[1;33m=\u001b[0m \u001b[0mglassnode\u001b[0m\u001b[1;33m(\u001b[0m\u001b[0murl\u001b[0m\u001b[1;33m)\u001b[0m\u001b[1;33m.\u001b[0m\u001b[0mcopy\u001b[0m\u001b[1;33m(\u001b[0m\u001b[1;33m)\u001b[0m\u001b[1;33m\u001b[0m\u001b[1;33m\u001b[0m\u001b[0m\n\u001b[0m\u001b[0;32m      5\u001b[0m \u001b[1;33m\u001b[0m\u001b[0m\n\u001b[0;32m      6\u001b[0m     \u001b[0mtime\u001b[0m\u001b[1;33m.\u001b[0m\u001b[0msleep\u001b[0m\u001b[1;33m(\u001b[0m\u001b[1;36m1\u001b[0m\u001b[1;33m)\u001b[0m\u001b[1;33m\u001b[0m\u001b[1;33m\u001b[0m\u001b[0m\n",
      "\u001b[1;31mNameError\u001b[0m: name 'glassnode' is not defined"
     ]
    }
   ],
   "source": [
    "get_all_data_onchain('market', 'marketcap_usd')\n"
   ]
  },
  {
   "cell_type": "code",
   "execution_count": 26,
   "id": "f64b7586",
   "metadata": {},
   "outputs": [],
   "source": [
    "#Add a comparative with index of bank's stocks"
   ]
  }
 ],
 "metadata": {
  "kernelspec": {
   "display_name": "Python 3 (ipykernel)",
   "language": "python",
   "name": "python3"
  },
  "language_info": {
   "codemirror_mode": {
    "name": "ipython",
    "version": 3
   },
   "file_extension": ".py",
   "mimetype": "text/x-python",
   "name": "python",
   "nbconvert_exporter": "python",
   "pygments_lexer": "ipython3",
   "version": "3.9.13"
  }
 },
 "nbformat": 4,
 "nbformat_minor": 5
}
