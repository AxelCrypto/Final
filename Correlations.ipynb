{
 "cells": [
  {
   "cell_type": "code",
   "execution_count": 1,
   "id": "3e06d653",
   "metadata": {},
   "outputs": [],
   "source": [
    "import pandas as pd\n",
    "import os\n",
    "from functions.get_btc import *"
   ]
  },
  {
   "cell_type": "code",
   "execution_count": 2,
   "id": "7481ce6e",
   "metadata": {
    "scrolled": true
   },
   "outputs": [],
   "source": [
    "df_btc = btc().copy()"
   ]
  },
  {
   "cell_type": "code",
   "execution_count": 3,
   "id": "f6d420a4",
   "metadata": {},
   "outputs": [],
   "source": [
    "csvs =[]\n",
    "directory = 'data/datos'\n",
    "for filename in os.listdir(directory):\n",
    "    csvs.append(filename[:-4])"
   ]
  },
  {
   "cell_type": "code",
   "execution_count": 4,
   "id": "65425575",
   "metadata": {},
   "outputs": [
    {
     "data": {
      "text/plain": [
       "['btc',\n",
       " 'dxy',\n",
       " 'merged_addresses_active_count',\n",
       " 'merged_addresses_new_non_zero_count',\n",
       " 'merged_balances',\n",
       " 'merged_fees_volume_sum',\n",
       " 'merged_indicators_sopr',\n",
       " 'merged_indicators_stock_to_flow_ratio',\n",
       " 'merged_institutions_purpose_etf_aum_sum',\n",
       " 'merged_institutions_purpose_etf_flows_sum',\n",
       " 'merged_institutions_purpose_etf_holdings_sum',\n",
       " 'merged_M2s',\n",
       " 'merged_market_marketcap_usd',\n",
       " 'merged_market_price_drawdown_relative',\n",
       " 'merged_supply_active_more_1y_percent',\n",
       " 'merged_transactions_count',\n",
       " 'merged_transactions_size_mean',\n",
       " 'Mining_Hashrate',\n",
       " 'Mining_Total Transaction Fees (BTC)',\n",
       " 'On-Chain_unique-addresses']"
      ]
     },
     "execution_count": 4,
     "metadata": {},
     "output_type": "execute_result"
    }
   ],
   "source": [
    "csvs"
   ]
  },
  {
   "cell_type": "code",
   "execution_count": 5,
   "id": "43f29a36",
   "metadata": {},
   "outputs": [],
   "source": [
    "df = pd.DataFrame(csvs)\n",
    "df.columns = ['names']"
   ]
  },
  {
   "cell_type": "code",
   "execution_count": 6,
   "id": "2792d8d7",
   "metadata": {},
   "outputs": [
    {
     "name": "stdout",
     "output_type": "stream",
     "text": [
      "btc : not available\n",
      "dxy : not available\n",
      "merged_balances : not available\n",
      "merged_M2s : not available\n"
     ]
    }
   ],
   "source": [
    "dic = {}\n",
    "for e in csvs:\n",
    "    name = f'{e}_df'\n",
    "    name = pd.read_csv(f'data\\datos\\{e}.csv')\n",
    "    \n",
    "    try: \n",
    "        dic[e]=name[['Close','metric']].corr().iloc[0,1]   \n",
    "    except:\n",
    "        print(e, ': not available')"
   ]
  },
  {
   "cell_type": "code",
   "execution_count": 7,
   "id": "2fed8bf0",
   "metadata": {},
   "outputs": [],
   "source": [
    "dic['merged_M2s']= 0.8341512979642502"
   ]
  },
  {
   "cell_type": "code",
   "execution_count": 8,
   "id": "4fee87e6",
   "metadata": {},
   "outputs": [],
   "source": [
    "dxy = pd.read_csv(f'data\\datos\\dxy.csv')\n",
    "dxy = dxy[['Date', 'Close']]\n",
    "dxy.columns=['Date','metric']"
   ]
  },
  {
   "cell_type": "code",
   "execution_count": 9,
   "id": "2805615c",
   "metadata": {},
   "outputs": [],
   "source": [
    "dxy = df_btc.merge(dxy, left_index = True, right_on= 'Date')"
   ]
  },
  {
   "cell_type": "code",
   "execution_count": 10,
   "id": "9a77bc08",
   "metadata": {},
   "outputs": [],
   "source": [
    "dic['dxy']=dxy[['Close','metric']].corr().iloc[0,1]   "
   ]
  },
  {
   "cell_type": "code",
   "execution_count": 11,
   "id": "6b99ff41",
   "metadata": {},
   "outputs": [],
   "source": [
    "balances = pd.read_csv(f'data\\datos\\merged_balances.csv')"
   ]
  },
  {
   "cell_type": "code",
   "execution_count": 12,
   "id": "598959d3",
   "metadata": {},
   "outputs": [],
   "source": [
    "balances = balances.iloc[:,1:]"
   ]
  },
  {
   "cell_type": "code",
   "execution_count": 13,
   "id": "279db048",
   "metadata": {},
   "outputs": [],
   "source": [
    "# for addresses\n",
    "\n",
    "bal_dic=  {'<0.01':'less_than_0_01', '0.01 - 0.1': 'f_0_01_to_0_1' ,'0.1 - 1': 'f_0_1_to_1', '1 - 10' : 'f_1_to_10', '10 - 100' : 'f_10_to_100','100 - 1000' : 'f_100_to_1000', '1k - 10k' : 'f_1000_to_10000','10k+' : 'f_10000_to_100000'}\n",
    "\n",
    "for e in bal_dic.values():\n",
    "    ind = 'addressesCount_' + e\n",
    "    dic[ind]=balances[['Close',ind]].corr().iloc[0,1]   \n",
    "    \n"
   ]
  },
  {
   "cell_type": "code",
   "execution_count": 14,
   "id": "9b2d8bb0",
   "metadata": {},
   "outputs": [],
   "source": [
    "# for Volume\n",
    "for e in bal_dic.values():\n",
    "    ind = 'totalVolume_' + e\n",
    "    dic[ind]=balances[['Close',ind]].corr().iloc[0,1]   \n",
    "    \n"
   ]
  },
  {
   "cell_type": "code",
   "execution_count": 15,
   "id": "bedf9c3a",
   "metadata": {},
   "outputs": [
    {
     "data": {
      "text/plain": [
       "34"
      ]
     },
     "execution_count": 15,
     "metadata": {},
     "output_type": "execute_result"
    }
   ],
   "source": [
    "dic)"
   ]
  },
  {
   "cell_type": "code",
   "execution_count": 16,
   "id": "a5236fa8",
   "metadata": {},
   "outputs": [],
   "source": [
    "#corr_raw= pd.DataFrame([e for e in range(33)])"
   ]
  },
  {
   "cell_type": "code",
   "execution_count": 18,
   "id": "73c2bfee",
   "metadata": {},
   "outputs": [],
   "source": [
    "#corr_raw['corr_metric'] = dic.items()"
   ]
  },
  {
   "cell_type": "code",
   "execution_count": 20,
   "id": "d330828b",
   "metadata": {},
   "outputs": [],
   "source": [
    "#corr_raw['corr_raw'] = dic.values()"
   ]
  },
  {
   "cell_type": "code",
   "execution_count": null,
   "id": "e6c6bb2d",
   "metadata": {},
   "outputs": [],
   "source": [
    "import json\n",
    "\n",
    "with open(\"correlations_raw.json\", \"w\") as f:\n",
    "    # Convert the dictionary to a JSON formatted string and write it to the file\n",
    "    json.dump(dic, f)\n"
   ]
  },
  {
   "cell_type": "code",
   "execution_count": null,
   "id": "33b07a0f",
   "metadata": {},
   "outputs": [],
   "source": [
    "# corr raw, corr z, corr z in 50."
   ]
  },
  {
   "cell_type": "code",
   "execution_count": null,
   "id": "0019bddf",
   "metadata": {},
   "outputs": [],
   "source": [
    "#z_scores = (df['M2_sum'] -  df['M2_sum'].rolling(ma).mean()) /  df['M2_sum'].rolling(ma).std()\n",
    "#y=z_scores.rolling(ma+7).mean()"
   ]
  },
  {
   "cell_type": "code",
   "execution_count": null,
   "id": "53cb2a23",
   "metadata": {},
   "outputs": [],
   "source": [
    "\n",
    "dxy['z30']= ((dxy['metric'] - dxy['metric'].rolling(30).mean()) / dxy['metric'].rolling(30).std()).rolling(7).mean()"
   ]
  },
  {
   "cell_type": "code",
   "execution_count": null,
   "id": "c39e1d41",
   "metadata": {},
   "outputs": [],
   "source": [
    "dxy.dropna(inplace = True)"
   ]
  },
  {
   "cell_type": "code",
   "execution_count": null,
   "id": "430503e8",
   "metadata": {},
   "outputs": [],
   "source": [
    "dxy.head()"
   ]
  },
  {
   "cell_type": "code",
   "execution_count": null,
   "id": "1d35fbb0",
   "metadata": {},
   "outputs": [],
   "source": [
    "dxy[['Close','z30']].corr().iloc[0,1]   "
   ]
  },
  {
   "cell_type": "code",
   "execution_count": null,
   "id": "eabf15eb",
   "metadata": {},
   "outputs": [],
   "source": [
    "for e in range (90):\n",
    "    a = f'z_{e}'\n",
    "    dxy[a] = ((dxy['metric'] - dxy['metric'].rolling(e).mean()) / dxy['metric'].rolling(e).std()).rolling(7).mean()\n",
    "    dxy[['Close',a]].corr().iloc[0,1]   \n",
    "\n",
    "del dxy['z_0']\n",
    "del dxy['z_1']\n",
    "del dxy['z_2']\n",
    "dxy.dropna(inplace = True)"
   ]
  },
  {
   "cell_type": "code",
   "execution_count": null,
   "id": "1847d09e",
   "metadata": {},
   "outputs": [],
   "source": [
    "lst={}\n",
    "for e in range (3,90):\n",
    "    lst[e]= dxy[['Close',f'z_{e}']].corr().iloc[0,1]   \n"
   ]
  },
  {
   "cell_type": "code",
   "execution_count": null,
   "id": "556ca0cf",
   "metadata": {},
   "outputs": [],
   "source": [
    "max(lst)"
   ]
  },
  {
   "cell_type": "code",
   "execution_count": null,
   "id": "ceeef7f1",
   "metadata": {},
   "outputs": [],
   "source": [
    "dic"
   ]
  },
  {
   "cell_type": "code",
   "execution_count": null,
   "id": "f64b7586",
   "metadata": {},
   "outputs": [],
   "source": [
    "#Add a comparative with index of bank's stocks"
   ]
  }
 ],
 "metadata": {
  "kernelspec": {
   "display_name": "Python 3 (ipykernel)",
   "language": "python",
   "name": "python3"
  },
  "language_info": {
   "codemirror_mode": {
    "name": "ipython",
    "version": 3
   },
   "file_extension": ".py",
   "mimetype": "text/x-python",
   "name": "python",
   "nbconvert_exporter": "python",
   "pygments_lexer": "ipython3",
   "version": "3.9.13"
  }
 },
 "nbformat": 4,
 "nbformat_minor": 5
}
